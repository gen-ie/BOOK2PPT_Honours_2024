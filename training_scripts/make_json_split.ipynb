{
 "cells": [
  {
   "cell_type": "code",
   "execution_count": 32,
   "metadata": {},
   "outputs": [
    {
     "name": "stdout",
     "output_type": "stream",
     "text": [
      "{'A Christmas Carol': {'train': [3, 2, 4, 1], 'val': [0], 'test': []}, 'A Tale of Two Cities.book 1': {'train': [0, 3, 1, 4], 'val': [5], 'test': [2]}, 'A Tale of Two Cities.book 2': {'train': [12, 19, 6, 10, 1, 4, 9, 20, 7, 18, 23, 11, 14, 22, 0, 16, 13, 5, 21], 'val': [15, 8, 2], 'test': [3, 17]}, 'A Tale of Two Cities.book 3': {'train': [5, 7, 3, 2, 0, 1], 'val': [6], 'test': [4]}, 'Candide': {'train': [3, 0, 2, 4], 'val': [1], 'test': []}, 'Frankenstein.volume 1': {'train': [1, 7, 3, 6, 0, 4], 'val': [5], 'test': [2]}, 'Frankenstein.volume 2': {'train': [0, 4, 6, 2, 1, 7], 'val': [5], 'test': [3]}, 'Frankenstein.volume 3': {'train': [3, 4, 1, 2, 0], 'val': [6], 'test': [5]}, 'Little Women.part 1': {'train': [11, 0, 10, 9, 14, 19, 4, 3, 20, 8, 13, 7, 16, 1, 12, 2, 6, 22], 'val': [17, 18, 15], 'test': [5, 21]}, 'Little Women.part 2': {'train': [18, 14, 0, 19, 22, 5, 3, 11, 13, 12, 2, 15, 1, 17, 7, 20, 6, 4, 9], 'val': [8, 16, 23], 'test': [10, 21]}, 'The Goose Girl': {'train': [11, 10, 13, 15, 2, 17, 1, 16, 12, 3, 7, 14, 19, 4, 6, 0], 'val': [9, 18, 8], 'test': [5]}, 'The Hound of the Baskervilles': {'train': [0, 1, 2, 7, 3, 4], 'val': [5], 'test': [6]}, 'The Turn of the Screw': {'train': [11, 2, 15, 5, 10, 3, 1, 6, 0, 12, 14, 9], 'val': [13, 7], 'test': [4, 8]}, 'Treasure Island.part 1': {'train': [], 'val': [0], 'test': []}, 'Treasure Island.part 3': {'train': [], 'val': [0], 'test': []}, 'Treasure Island.part 4': {'train': [], 'val': [0], 'test': []}, 'Treasure Island.part 5': {'train': [], 'val': [0], 'test': []}, 'Treasure Island.part 6': {'train': [], 'val': [0], 'test': []}, 'Wuthering Heights': {'train': [11, 17, 26, 16, 32, 25, 30, 20, 7, 4, 8, 33, 1, 19, 31, 24, 5, 3, 15, 9, 14, 13, 10, 23, 2, 6, 12], 'val': [28, 21, 27, 18], 'test': [29, 0, 22]}}\n",
      "total train: 152\n",
      "total val: 31\n",
      "total test: 18\n",
      "total dataset: 201\n"
     ]
    }
   ],
   "source": [
    "import numpy as np\n",
    "import pandas as pd\n",
    "import pickle\n",
    "import json\n",
    "import glob\n",
    "\n",
    "np.random.seed(4011)\n",
    "\n",
    "json_file = {}\n",
    "\n",
    "dataset = glob.glob(f\"../books/*.pkl\")\n",
    "\n",
    "tot_train = 0\n",
    "tot_val = 0\n",
    "tot_test = 0\n",
    "\n",
    "# 75/15/10 splits\n",
    "for book in dataset:\n",
    "    num_chp = pickle.load(open(book, \"rb\"))\n",
    "    total_size = len(num_chp)\n",
    "\n",
    "    train_size = int(0.8 * total_size)\n",
    "    val_size = int(0.1 * total_size)\n",
    "\n",
    "    indices = np.arange(total_size)\n",
    "    np.random.shuffle(indices)\n",
    "\n",
    "    train_indices = indices[:train_size].tolist()\n",
    "    val_indices = indices[train_size:train_size+val_size+1].tolist()\n",
    "    test_indices = indices[train_size+val_size+1:].tolist()\n",
    "\n",
    "    tot_train += len(train_indices)\n",
    "    tot_val += len(val_indices)\n",
    "    tot_test += len(test_indices)\n",
    "\n",
    "    book_title = book.split(\"\\\\\")[1][:-4] # removes pkl extension\n",
    "    json_file[book_title] = {\"train\": train_indices, \"val\": val_indices, \"test\": test_indices}\n",
    "\n",
    "print(json_file)\n",
    "with open('../data/v1.0/book_json.json', 'w') as file:\n",
    "    json.dump(json_file, file)\n",
    "    \n",
    "print(\"total train:\", tot_train)\n",
    "print(\"total val:\", tot_val)\n",
    "print(\"total test:\", tot_test)\n",
    "print(\"total dataset:\", tot_train+tot_val+tot_test)"
   ]
  }
 ],
 "metadata": {
  "kernelspec": {
   "display_name": "doc2ppt_visual",
   "language": "python",
   "name": "python3"
  },
  "language_info": {
   "codemirror_mode": {
    "name": "ipython",
    "version": 3
   },
   "file_extension": ".py",
   "mimetype": "text/x-python",
   "name": "python",
   "nbconvert_exporter": "python",
   "pygments_lexer": "ipython3",
   "version": "3.8.19"
  }
 },
 "nbformat": 4,
 "nbformat_minor": 2
}
