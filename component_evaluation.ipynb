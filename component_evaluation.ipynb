{
 "cells": [
  {
   "cell_type": "code",
   "execution_count": 7,
   "metadata": {},
   "outputs": [],
   "source": [
    "# pip install bert_score rouge_score clip sentence-transformers transformers pillow torch torchvision\n",
    "\n",
    "from PIL import Image\n",
    "import os\n",
    "import clip\n",
    "import torch as T\n",
    "import pandas as pd\n",
    "\n",
    "from transformers import BlipProcessor, BlipForConditionalGeneration\n",
    "import pickle\n",
    "import numpy as np\n",
    "import glob\n",
    "import regex as re\n",
    "\n",
    "from pptx import Presentation\n",
    "from io import BytesIO\n",
    "import zipfile\n",
    "import shutil\n",
    "\n",
    "from bert_score import score\n",
    "from rouge_score import rouge_scorer\n",
    "\n",
    "import json\n",
    "from dataset import *\n",
    "import pandas as pd\n",
    "\n",
    "\n",
    "device = T.device(\"cuda\" if T.cuda.is_available() else \"cpu\")"
   ]
  },
  {
   "cell_type": "markdown",
   "metadata": {},
   "source": [
    "## Extract Text and Images from Generated Slides"
   ]
  },
  {
   "cell_type": "code",
   "execution_count": 2,
   "metadata": {},
   "outputs": [],
   "source": [
    "def extract_text_from_slide(slide):\n",
    "    text = []\n",
    "    for shape in slide.shapes:\n",
    "        if shape.has_text_frame:\n",
    "            for paragraph in shape.text_frame.paragraphs:\n",
    "                text.append(paragraph.text)\n",
    "    return ' '.join(text)\n",
    "\n",
    "def extract_text(pptx_file, slide_section_counts, output_folder):\n",
    "    if not os.path.exists(output_folder):\n",
    "        os.makedirs(output_folder)\n",
    "\n",
    "    slide_sec_counts = pickle.load(open(slide_section_counts, 'rb'))\n",
    "    presentation = Presentation(pptx_file)\n",
    "    chapter = pptx_file.split(\"/\")[-1][:-5]\n",
    "\n",
    "    pptx_text_w_sections= []\n",
    "    slide_no = 1\n",
    "    sec = 0\n",
    "    \n",
    "    for slide_number, slide in enumerate(presentation.slides, start=1):\n",
    "        section_slides = [] # Keeps track of slides belonging in a section\n",
    "        for sec_slide in range(slide_sec_counts[sec]):\n",
    "            # print(f\"Processing Slide {slide_number}\")\n",
    "            # Extract text\n",
    "            text = extract_text_from_slide(slide)\n",
    "            section_slides.append(text)\n",
    "            slide_no += 1\n",
    "        pptx_text_w_sections.append(section_slides)\n",
    "        sec += 1\n",
    "\n",
    "    with open(os.path.join(output_folder, f\"{chapter}_slide_text_info.pkl\"), 'wb') as file:\n",
    "        pickle.dump(pptx_text_w_sections, file)"
   ]
  },
  {
   "cell_type": "code",
   "execution_count": 12,
   "metadata": {
    "scrolled": true
   },
   "outputs": [],
   "source": [
    "chosen_chapters = ['The Goose Girl.5', 'Wuthering Heights.0', 'Frankenstein.volume 1.2']\n",
    "\n",
    "# Extract paraphrased sentences in slide decks\n",
    "for chp in chosen_chapters:\n",
    "    extract_text(f'./generated_test_slides/{chp}_stablediff.pptx', f'./generated_test_slides/slide_section_counts/{chp}_sec_counts.pkl', './generated_test_slides/extracted_stablediff')\n",
    "    extract_text(f'./generated_test_slides/{chp}_animatediff.pptx', f'./generated_test_slides/slide_section_counts/{chp}_sec_counts.pkl', './generated_test_slides/extracted_animatediff')"
   ]
  },
  {
   "cell_type": "markdown",
   "metadata": {},
   "source": [
    "## Metric Code\n",
    "- Provides code for metrics ROUGE-L and BERT\n",
    "- Additionally, it has code for generating captions from resulting visuals"
   ]
  },
  {
   "cell_type": "code",
   "execution_count": 3,
   "metadata": {},
   "outputs": [],
   "source": [
    "def calculate_rouge_l(reference_text, generated_text, slide_text=False, slides_per_section=0):\n",
    "    # Initialize the ROUGE scorer\n",
    "    scorer = rouge_scorer.RougeScorer(['rougeL'], use_stemmer=False)\n",
    "    if slide_text: # Consider the number of slides dedicated to section \n",
    "        score = scorer.score(reference_text, generated_text)['rougeL'] \n",
    "        precision = score.precision * np.exp((1-slides_per_section)/1) # (actual - pred)/actual; actual is 1 as there is only one slide per section in groundtruth BookSum slide decks\n",
    "        recall = score.recall * np.exp((1-slides_per_section)/1)\n",
    "        f1 = score.fmeasure * np.exp((1-slides_per_section)/1)\n",
    "    else:\n",
    "        score = scorer.score(reference_text, generated_text)['rougeL']\n",
    "        precision = score.precision\n",
    "        recall = score.recall \n",
    "        f1 = score.fmeasure\n",
    "    return precision, recall, f1"
   ]
  },
  {
   "cell_type": "code",
   "execution_count": 4,
   "metadata": {},
   "outputs": [
    {
     "name": "stderr",
     "output_type": "stream",
     "text": [
      "/home/gcaraan/.conda/envs/doc2ppt-visual/lib/python3.9/site-packages/transformers/tokenization_utils_base.py:1601: FutureWarning: `clean_up_tokenization_spaces` was not set. It will be set to `True` by default. This behavior will be depracted in transformers v4.45, and will be then set to `False` by default. For more details check this issue: https://github.com/huggingface/transformers/issues/31884\n",
      "  warnings.warn(\n"
     ]
    }
   ],
   "source": [
    "# Load BLIP model and processor\n",
    "processor = BlipProcessor.from_pretrained(\"Salesforce/blip-image-captioning-base\")\n",
    "model = BlipForConditionalGeneration.from_pretrained(\"Salesforce/blip-image-captioning-base\").to(device)\n",
    "\n",
    "def image_scoring(summaries, visuals, metric):\n",
    "    scores = {'precision': [], 'recall': [], 'f1': []}\n",
    "    for image_path, text in zip(visuals, summaries):\n",
    "        image = Image.open(image_path).convert(\"RGB\")\n",
    "        # Preprocess the image\n",
    "        inputs = processor(images=image, return_tensors=\"pt\").to(device)\n",
    "\n",
    "        # Generate caption for the image\n",
    "        outputs = model.generate(**inputs, max_new_tokens=512)\n",
    "        generated_caption = processor.decode(outputs[0], skip_special_tokens=True, clean_up_tokenization_spaces=True)\n",
    "\n",
    "        if metric == \"bert\":\n",
    "            precision, recall, f1 = score([text], [generated_caption], lang='en')\n",
    "            scores['precision'].append(precision.item())\n",
    "            scores['recall'].append(recall.item())\n",
    "            scores['f1'].append(f1.item())\n",
    "\n",
    "        elif metric == \"rougel\":\n",
    "            precision, recall, f1 = calculate_rouge_l(text, generated_caption)\n",
    "            scores['precision'].append(precision)\n",
    "            scores['recall'].append(recall)\n",
    "            scores['f1'].append(f1)\n",
    "    \n",
    "    return np.mean(scores['precision']), np.mean(scores['recall']), np.mean(scores['f1'])\n",
    "        "
   ]
  },
  {
   "cell_type": "code",
   "execution_count": 12,
   "metadata": {},
   "outputs": [],
   "source": [
    "def text_scores(chp, stories_dat, metric):\n",
    "    split_name = chp.split(\".\")\n",
    "    if len(split_name) == 2:\n",
    "        book, chap = split_name\n",
    "    elif len(split_name) == 3:\n",
    "        book = \".\".join(split_name[:-1])\n",
    "        chap = split_name[-1]\n",
    "    \n",
    "    # ground truth slides\n",
    "    sections = stories_dat[book][int(chap)]['slide']['pages']\n",
    "    animate_gen_text = pickle.load(open(f'./generated_test_slides/extracted_animatediff/{chp}_animatediff_slide_text_info.pkl', 'rb'))\n",
    "    stable_gen_text = pickle.load(open(f'./generated_test_slides/extracted_stablediff/{chp}_stablediff_slide_text_info.pkl', 'rb'))\n",
    "\n",
    "    num = 1\n",
    "    scores = {'precision': [], 'recall': [], 'f1': []}\n",
    "    for sec, animate_slide_sec, stable_slide_sec in zip(sections, animate_gen_text, stable_gen_text):\n",
    "        source_text_list = np.array([[sen['text'] for sen in slide['page']] for slide in sec]).flatten().tolist()\n",
    "        source_text = \" \".join(source_text_list)\n",
    "        animate_text = \" \".join([sen for sen in animate_slide_sec])\n",
    "        stable_text = \" \".join([sen for sen in animate_slide_sec])\n",
    "        slides_per_section = len(animate_slide_sec) # both animatediff and stable diff should have the same number of slides per section as they've used the same Progress Tracker\n",
    "\n",
    "        if metric == \"rougel\":\n",
    "            animate_precision, animate_recall, animate_f1 = calculate_rouge_l(source_text, animate_text, slide_text=True, slides_per_section=slides_per_section)\n",
    "            stable_precision, stable_recall, stable_f1 = calculate_rouge_l(source_text, stable_text, slide_text=True, slides_per_section=slides_per_section)\n",
    "\n",
    "            scores['precision'].append(animate_precision)\n",
    "            scores['recall'].append(animate_recall)\n",
    "            scores['f1'].append(animate_f1)\n",
    "            \n",
    "            scores['precision'].append(stable_precision)\n",
    "            scores['recall'].append(stable_recall)\n",
    "            scores['f1'].append(stable_f1)\n",
    "            \n",
    "        elif metric == \"bert\":\n",
    "            animate_precision, animate_recall, animate_f1 = score([source_text], [animate_text], lang='en')\n",
    "            stable_precision, stable_recall, stable_f1 = score([source_text], [stable_text], lang='en')\n",
    "\n",
    "            scores['precision'].append(animate_precision.item())\n",
    "            scores['recall'].append(animate_recall.item())\n",
    "            scores['f1'].append(animate_f1.item())\n",
    "            \n",
    "            scores['precision'].append(stable_precision.item())\n",
    "            scores['recall'].append(stable_recall.item())\n",
    "            scores['f1'].append(stable_f1.item())\n",
    "        \n",
    "        num += 1\n",
    "    \n",
    "    return np.mean(scores['precision']), np.mean(scores['recall']), np.mean(scores['f1'])   "
   ]
  },
  {
   "cell_type": "markdown",
   "metadata": {},
   "source": [
    "## Image Relevance Scoring\n",
    "- Evaluate how relevant the generated image is to the text prompt.\n",
    "- Metrics used:\n",
    "    - BERT Scoring\n",
    "    - ROUGE-L"
   ]
  },
  {
   "cell_type": "code",
   "execution_count": null,
   "metadata": {
    "scrolled": true
   },
   "outputs": [],
   "source": [
    "import glob\n",
    "\n",
    "# Test slide deck chpaters\n",
    "chosen_chapters = ['The Goose Girl.5', 'Frankenstein.volume 1.2', 'Wuthering Heights.0']\n",
    "\n",
    "slide_rougel_scores_img = {}\n",
    "slide_bert_scores_img = {}\n",
    "for chp in chosen_chapters:\n",
    "    # Get prompts\n",
    "    prompts = pickle.load(open(f'./generated_test_slides/{chp}_text_prompts.pkl', 'rb'))\n",
    "    visual_prompts = [p['prompt'] if \"can I help you today?\" and \"Join our discord for more:\" not in p['prompt'] else p['context'] for p in prompts]\n",
    "    \n",
    "    # Get images or GIFs\n",
    "    stable_image_paths = glob.glob(os.path.join(f'./generated_test_slides/{chp}_pngs/', '*.png'))\n",
    "    animate_image_paths = glob.glob(os.path.join(f'./generated_test_slides/{chp}_gifs/', '*.gif'))\n",
    "    \n",
    "    # Get scores\n",
    "    rouge_final_stable = image_scoring(visual_prompts, stable_image_paths, \"rougel\")\n",
    "    rouge_final_animate = image_scoring(visual_prompts, animate_image_paths, \"rougel\")\n",
    "    bert_final_stable = image_scoring(visual_prompts, stable_image_paths, \"bert\")\n",
    "    bert_final_animate = image_scoring(visual_prompts, animate_image_paths, \"bert\")\n",
    "\n",
    "    slide_rougel_scores_img[chp] = {'stablediff': rouge_final_stable, 'animatediff': rouge_final_animate}\n",
    "    slide_bert_scores_img[chp] = {'stablediff': bert_final_stable, 'animatediff': bert_final_animate}"
   ]
  },
  {
   "cell_type": "markdown",
   "metadata": {},
   "source": [
    "### BERT-Score Images"
   ]
  },
  {
   "cell_type": "code",
   "execution_count": 10,
   "metadata": {},
   "outputs": [
    {
     "data": {
      "text/html": [
       "<div>\n",
       "<style scoped>\n",
       "    .dataframe tbody tr th:only-of-type {\n",
       "        vertical-align: middle;\n",
       "    }\n",
       "\n",
       "    .dataframe tbody tr th {\n",
       "        vertical-align: top;\n",
       "    }\n",
       "\n",
       "    .dataframe thead th {\n",
       "        text-align: right;\n",
       "    }\n",
       "</style>\n",
       "<table border=\"1\" class=\"dataframe\">\n",
       "  <thead>\n",
       "    <tr style=\"text-align: right;\">\n",
       "      <th></th>\n",
       "      <th>stablediff</th>\n",
       "      <th>animatediff</th>\n",
       "    </tr>\n",
       "  </thead>\n",
       "  <tbody>\n",
       "    <tr>\n",
       "      <th>precision</th>\n",
       "      <td>0.811445</td>\n",
       "      <td>0.812932</td>\n",
       "    </tr>\n",
       "    <tr>\n",
       "      <th>recall</th>\n",
       "      <td>0.871425</td>\n",
       "      <td>0.867560</td>\n",
       "    </tr>\n",
       "    <tr>\n",
       "      <th>f1</th>\n",
       "      <td>0.840264</td>\n",
       "      <td>0.839336</td>\n",
       "    </tr>\n",
       "  </tbody>\n",
       "</table>\n",
       "</div>"
      ],
      "text/plain": [
       "           stablediff  animatediff\n",
       "precision    0.811445     0.812932\n",
       "recall       0.871425     0.867560\n",
       "f1           0.840264     0.839336"
      ]
     },
     "execution_count": 10,
     "metadata": {},
     "output_type": "execute_result"
    }
   ],
   "source": [
    "pd.DataFrame(slide_bert_scores_img['The Goose Girl.5'], index=[\"precision\", \"recall\", \"f1\"])"
   ]
  },
  {
   "cell_type": "code",
   "execution_count": 11,
   "metadata": {},
   "outputs": [
    {
     "data": {
      "text/html": [
       "<div>\n",
       "<style scoped>\n",
       "    .dataframe tbody tr th:only-of-type {\n",
       "        vertical-align: middle;\n",
       "    }\n",
       "\n",
       "    .dataframe tbody tr th {\n",
       "        vertical-align: top;\n",
       "    }\n",
       "\n",
       "    .dataframe thead th {\n",
       "        text-align: right;\n",
       "    }\n",
       "</style>\n",
       "<table border=\"1\" class=\"dataframe\">\n",
       "  <thead>\n",
       "    <tr style=\"text-align: right;\">\n",
       "      <th></th>\n",
       "      <th>stablediff</th>\n",
       "      <th>animatediff</th>\n",
       "    </tr>\n",
       "  </thead>\n",
       "  <tbody>\n",
       "    <tr>\n",
       "      <th>precision</th>\n",
       "      <td>0.811045</td>\n",
       "      <td>0.813673</td>\n",
       "    </tr>\n",
       "    <tr>\n",
       "      <th>recall</th>\n",
       "      <td>0.864593</td>\n",
       "      <td>0.863750</td>\n",
       "    </tr>\n",
       "    <tr>\n",
       "      <th>f1</th>\n",
       "      <td>0.836922</td>\n",
       "      <td>0.837882</td>\n",
       "    </tr>\n",
       "  </tbody>\n",
       "</table>\n",
       "</div>"
      ],
      "text/plain": [
       "           stablediff  animatediff\n",
       "precision    0.811045     0.813673\n",
       "recall       0.864593     0.863750\n",
       "f1           0.836922     0.837882"
      ]
     },
     "execution_count": 11,
     "metadata": {},
     "output_type": "execute_result"
    }
   ],
   "source": [
    "pd.DataFrame(slide_bert_scores_img['Wuthering Heights.0'], index=[\"precision\", \"recall\", \"f1\"])"
   ]
  },
  {
   "cell_type": "code",
   "execution_count": 13,
   "metadata": {},
   "outputs": [
    {
     "data": {
      "text/html": [
       "<div>\n",
       "<style scoped>\n",
       "    .dataframe tbody tr th:only-of-type {\n",
       "        vertical-align: middle;\n",
       "    }\n",
       "\n",
       "    .dataframe tbody tr th {\n",
       "        vertical-align: top;\n",
       "    }\n",
       "\n",
       "    .dataframe thead th {\n",
       "        text-align: right;\n",
       "    }\n",
       "</style>\n",
       "<table border=\"1\" class=\"dataframe\">\n",
       "  <thead>\n",
       "    <tr style=\"text-align: right;\">\n",
       "      <th></th>\n",
       "      <th>stablediff</th>\n",
       "      <th>animatediff</th>\n",
       "    </tr>\n",
       "  </thead>\n",
       "  <tbody>\n",
       "    <tr>\n",
       "      <th>precision</th>\n",
       "      <td>0.827049</td>\n",
       "      <td>0.829640</td>\n",
       "    </tr>\n",
       "    <tr>\n",
       "      <th>recall</th>\n",
       "      <td>0.865091</td>\n",
       "      <td>0.872427</td>\n",
       "    </tr>\n",
       "    <tr>\n",
       "      <th>f1</th>\n",
       "      <td>0.845533</td>\n",
       "      <td>0.850360</td>\n",
       "    </tr>\n",
       "  </tbody>\n",
       "</table>\n",
       "</div>"
      ],
      "text/plain": [
       "           stablediff  animatediff\n",
       "precision    0.827049     0.829640\n",
       "recall       0.865091     0.872427\n",
       "f1           0.845533     0.850360"
      ]
     },
     "execution_count": 13,
     "metadata": {},
     "output_type": "execute_result"
    }
   ],
   "source": [
    "pd.DataFrame(slide_bert_scores_img['Frankenstein.volume 1.2'], index=[\"precision\", \"recall\", \"f1\"])"
   ]
  },
  {
   "cell_type": "markdown",
   "metadata": {},
   "source": [
    "### ROUGE-L Image Scores"
   ]
  },
  {
   "cell_type": "code",
   "execution_count": 15,
   "metadata": {},
   "outputs": [
    {
     "data": {
      "text/html": [
       "<div>\n",
       "<style scoped>\n",
       "    .dataframe tbody tr th:only-of-type {\n",
       "        vertical-align: middle;\n",
       "    }\n",
       "\n",
       "    .dataframe tbody tr th {\n",
       "        vertical-align: top;\n",
       "    }\n",
       "\n",
       "    .dataframe thead th {\n",
       "        text-align: right;\n",
       "    }\n",
       "</style>\n",
       "<table border=\"1\" class=\"dataframe\">\n",
       "  <thead>\n",
       "    <tr style=\"text-align: right;\">\n",
       "      <th></th>\n",
       "      <th>stablediff</th>\n",
       "      <th>animatediff</th>\n",
       "    </tr>\n",
       "  </thead>\n",
       "  <tbody>\n",
       "    <tr>\n",
       "      <th>precision</th>\n",
       "      <td>0.335017</td>\n",
       "      <td>0.345328</td>\n",
       "    </tr>\n",
       "    <tr>\n",
       "      <th>recall</th>\n",
       "      <td>0.055944</td>\n",
       "      <td>0.054334</td>\n",
       "    </tr>\n",
       "    <tr>\n",
       "      <th>f1</th>\n",
       "      <td>0.095324</td>\n",
       "      <td>0.093770</td>\n",
       "    </tr>\n",
       "  </tbody>\n",
       "</table>\n",
       "</div>"
      ],
      "text/plain": [
       "           stablediff  animatediff\n",
       "precision    0.335017     0.345328\n",
       "recall       0.055944     0.054334\n",
       "f1           0.095324     0.093770"
      ]
     },
     "execution_count": 15,
     "metadata": {},
     "output_type": "execute_result"
    }
   ],
   "source": [
    "pd.DataFrame(slide_rougel_scores_img['The Goose Girl.5'], index=[\"precision\", \"recall\", \"f1\"])"
   ]
  },
  {
   "cell_type": "code",
   "execution_count": 16,
   "metadata": {},
   "outputs": [
    {
     "data": {
      "text/html": [
       "<div>\n",
       "<style scoped>\n",
       "    .dataframe tbody tr th:only-of-type {\n",
       "        vertical-align: middle;\n",
       "    }\n",
       "\n",
       "    .dataframe tbody tr th {\n",
       "        vertical-align: top;\n",
       "    }\n",
       "\n",
       "    .dataframe thead th {\n",
       "        text-align: right;\n",
       "    }\n",
       "</style>\n",
       "<table border=\"1\" class=\"dataframe\">\n",
       "  <thead>\n",
       "    <tr style=\"text-align: right;\">\n",
       "      <th></th>\n",
       "      <th>stablediff</th>\n",
       "      <th>animatediff</th>\n",
       "    </tr>\n",
       "  </thead>\n",
       "  <tbody>\n",
       "    <tr>\n",
       "      <th>precision</th>\n",
       "      <td>0.327879</td>\n",
       "      <td>0.363205</td>\n",
       "    </tr>\n",
       "    <tr>\n",
       "      <th>recall</th>\n",
       "      <td>0.053287</td>\n",
       "      <td>0.057951</td>\n",
       "    </tr>\n",
       "    <tr>\n",
       "      <th>f1</th>\n",
       "      <td>0.091255</td>\n",
       "      <td>0.098609</td>\n",
       "    </tr>\n",
       "  </tbody>\n",
       "</table>\n",
       "</div>"
      ],
      "text/plain": [
       "           stablediff  animatediff\n",
       "precision    0.327879     0.363205\n",
       "recall       0.053287     0.057951\n",
       "f1           0.091255     0.098609"
      ]
     },
     "execution_count": 16,
     "metadata": {},
     "output_type": "execute_result"
    }
   ],
   "source": [
    "pd.DataFrame(slide_rougel_scores_img['Wuthering Heights.0'], index=[\"precision\", \"recall\", \"f1\"])"
   ]
  },
  {
   "cell_type": "code",
   "execution_count": 17,
   "metadata": {},
   "outputs": [
    {
     "data": {
      "text/html": [
       "<div>\n",
       "<style scoped>\n",
       "    .dataframe tbody tr th:only-of-type {\n",
       "        vertical-align: middle;\n",
       "    }\n",
       "\n",
       "    .dataframe tbody tr th {\n",
       "        vertical-align: top;\n",
       "    }\n",
       "\n",
       "    .dataframe thead th {\n",
       "        text-align: right;\n",
       "    }\n",
       "</style>\n",
       "<table border=\"1\" class=\"dataframe\">\n",
       "  <thead>\n",
       "    <tr style=\"text-align: right;\">\n",
       "      <th></th>\n",
       "      <th>stablediff</th>\n",
       "      <th>animatediff</th>\n",
       "    </tr>\n",
       "  </thead>\n",
       "  <tbody>\n",
       "    <tr>\n",
       "      <th>precision</th>\n",
       "      <td>0.258369</td>\n",
       "      <td>0.303571</td>\n",
       "    </tr>\n",
       "    <tr>\n",
       "      <th>recall</th>\n",
       "      <td>0.070807</td>\n",
       "      <td>0.068900</td>\n",
       "    </tr>\n",
       "    <tr>\n",
       "      <th>f1</th>\n",
       "      <td>0.108825</td>\n",
       "      <td>0.111911</td>\n",
       "    </tr>\n",
       "  </tbody>\n",
       "</table>\n",
       "</div>"
      ],
      "text/plain": [
       "           stablediff  animatediff\n",
       "precision    0.258369     0.303571\n",
       "recall       0.070807     0.068900\n",
       "f1           0.108825     0.111911"
      ]
     },
     "execution_count": 17,
     "metadata": {},
     "output_type": "execute_result"
    }
   ],
   "source": [
    "pd.DataFrame(slide_rougel_scores_img['Frankenstein.volume 1.2'], index=[\"precision\", \"recall\", \"f1\"])"
   ]
  },
  {
   "cell_type": "markdown",
   "metadata": {},
   "source": [
    "## Text Quality \n",
    "- Evaluate how relevant summarised text is to raw text\n",
    "- Metrics used:\n",
    "    - ROUGE-SL\n",
    "    - BERT Score"
   ]
  },
  {
   "cell_type": "code",
   "execution_count": null,
   "metadata": {
    "scrolled": true
   },
   "outputs": [],
   "source": [
    "# Load the source texts\n",
    "stories_dat ={}\n",
    "for conf in json.load(open('./data/v1.0/book_json.json', 'r')):\n",
    "    pkl = pickle.load(open(f'./books/{conf}.pkl', 'rb'))\n",
    "    stories_dat[conf] = {}\n",
    "    for item in pkl:\n",
    "        idd = item['idd']\n",
    "        stories_dat[conf][idd] = item\n",
    "\n",
    "# Test slide decks   \n",
    "chosen_chapters = ['The Goose Girl.5', 'Wuthering Heights.0', 'Frankenstein.volume 1.2']\n",
    "\n",
    "slide_bert_scores_text = {}\n",
    "slide_rougel_scores_text = {}\n",
    "\n",
    "for chp in chosen_chapters:\n",
    "    # Compare predicted slide deck texts to ground-truth\n",
    "    rouge_precision, rouge_recall, rouge_f1 = text_scores(chp, stories_dat, \"rougel\")\n",
    "    bert_precision, bert_recall, bert_f1 = text_scores(chp, stories_dat, \"bert\")\n",
    "\n",
    "    slide_rougel_scores_text[chp] = {\"precision\": rouge_precision, \"recall\": rouge_recall, \"f1\": rouge_f1}\n",
    "    slide_bert_scores_text[chp] = {\"precision\": bert_precision, \"recall\": bert_recall, \"f1\": bert_f1}"
   ]
  },
  {
   "cell_type": "markdown",
   "metadata": {},
   "source": [
    "### ROUGE-SL Scores"
   ]
  },
  {
   "cell_type": "code",
   "execution_count": 22,
   "metadata": {},
   "outputs": [
    {
     "data": {
      "text/html": [
       "<div>\n",
       "<style scoped>\n",
       "    .dataframe tbody tr th:only-of-type {\n",
       "        vertical-align: middle;\n",
       "    }\n",
       "\n",
       "    .dataframe tbody tr th {\n",
       "        vertical-align: top;\n",
       "    }\n",
       "\n",
       "    .dataframe thead th {\n",
       "        text-align: right;\n",
       "    }\n",
       "</style>\n",
       "<table border=\"1\" class=\"dataframe\">\n",
       "  <thead>\n",
       "    <tr style=\"text-align: right;\">\n",
       "      <th></th>\n",
       "      <th>The Goose Girl.5</th>\n",
       "      <th>Wuthering Heights.0</th>\n",
       "      <th>Frankenstein.volume 1.2</th>\n",
       "    </tr>\n",
       "  </thead>\n",
       "  <tbody>\n",
       "    <tr>\n",
       "      <th>precision</th>\n",
       "      <td>0.406321</td>\n",
       "      <td>0.610684</td>\n",
       "      <td>0.343644</td>\n",
       "    </tr>\n",
       "    <tr>\n",
       "      <th>recall</th>\n",
       "      <td>0.229171</td>\n",
       "      <td>0.551671</td>\n",
       "      <td>0.310513</td>\n",
       "    </tr>\n",
       "    <tr>\n",
       "      <th>f1</th>\n",
       "      <td>0.268933</td>\n",
       "      <td>0.578241</td>\n",
       "      <td>0.324744</td>\n",
       "    </tr>\n",
       "  </tbody>\n",
       "</table>\n",
       "</div>"
      ],
      "text/plain": [
       "           The Goose Girl.5  Wuthering Heights.0  Frankenstein.volume 1.2\n",
       "precision          0.406321             0.610684                 0.343644\n",
       "recall             0.229171             0.551671                 0.310513\n",
       "f1                 0.268933             0.578241                 0.324744"
      ]
     },
     "execution_count": 22,
     "metadata": {},
     "output_type": "execute_result"
    }
   ],
   "source": [
    "pd.DataFrame(slide_rougel_scores_text)"
   ]
  },
  {
   "cell_type": "markdown",
   "metadata": {},
   "source": [
    "### BERT Score"
   ]
  },
  {
   "cell_type": "code",
   "execution_count": 21,
   "metadata": {},
   "outputs": [
    {
     "data": {
      "text/html": [
       "<div>\n",
       "<style scoped>\n",
       "    .dataframe tbody tr th:only-of-type {\n",
       "        vertical-align: middle;\n",
       "    }\n",
       "\n",
       "    .dataframe tbody tr th {\n",
       "        vertical-align: top;\n",
       "    }\n",
       "\n",
       "    .dataframe thead th {\n",
       "        text-align: right;\n",
       "    }\n",
       "</style>\n",
       "<table border=\"1\" class=\"dataframe\">\n",
       "  <thead>\n",
       "    <tr style=\"text-align: right;\">\n",
       "      <th></th>\n",
       "      <th>The Goose Girl.5</th>\n",
       "      <th>Wuthering Heights.0</th>\n",
       "      <th>Frankenstein.volume 1.2</th>\n",
       "    </tr>\n",
       "  </thead>\n",
       "  <tbody>\n",
       "    <tr>\n",
       "      <th>precision</th>\n",
       "      <td>0.855148</td>\n",
       "      <td>0.905362</td>\n",
       "      <td>0.870356</td>\n",
       "    </tr>\n",
       "    <tr>\n",
       "      <th>recall</th>\n",
       "      <td>0.865501</td>\n",
       "      <td>0.898635</td>\n",
       "      <td>0.855424</td>\n",
       "    </tr>\n",
       "    <tr>\n",
       "      <th>f1</th>\n",
       "      <td>0.860040</td>\n",
       "      <td>0.901974</td>\n",
       "      <td>0.862784</td>\n",
       "    </tr>\n",
       "  </tbody>\n",
       "</table>\n",
       "</div>"
      ],
      "text/plain": [
       "           The Goose Girl.5  Wuthering Heights.0  Frankenstein.volume 1.2\n",
       "precision          0.855148             0.905362                 0.870356\n",
       "recall             0.865501             0.898635                 0.855424\n",
       "f1                 0.860040             0.901974                 0.862784"
      ]
     },
     "execution_count": 21,
     "metadata": {},
     "output_type": "execute_result"
    }
   ],
   "source": [
    "pd.DataFrame(slide_bert_scores_text)"
   ]
  },
  {
   "cell_type": "markdown",
   "metadata": {},
   "source": [
    "## Measure Layout Quality\n",
    "- Evaluate the placement of images and text on the slide\n",
    "- Metrics: Mean IOU\n",
    "- see generating_stories jupyter notebook"
   ]
  },
  {
   "cell_type": "markdown",
   "metadata": {},
   "source": [
    "## Human Evaluation Visualisation\n"
   ]
  },
  {
   "cell_type": "code",
   "execution_count": 8,
   "metadata": {},
   "outputs": [
    {
     "data": {
      "text/html": [
       "<div>\n",
       "<style scoped>\n",
       "    .dataframe tbody tr th:only-of-type {\n",
       "        vertical-align: middle;\n",
       "    }\n",
       "\n",
       "    .dataframe tbody tr th {\n",
       "        vertical-align: top;\n",
       "    }\n",
       "\n",
       "    .dataframe thead th {\n",
       "        text-align: right;\n",
       "    }\n",
       "</style>\n",
       "<table border=\"1\" class=\"dataframe\">\n",
       "  <thead>\n",
       "    <tr style=\"text-align: right;\">\n",
       "      <th></th>\n",
       "      <th>How well does text in the slide preserve the key content of the source text?</th>\n",
       "      <th>How well does the generated image help with comprehending the source text?</th>\n",
       "      <th>How well does the text in the slide deck flow in a logical, coherent manner, effectively telling a complete and connected story across the slides?</th>\n",
       "      <th>How well does the sequence of images in the slide deck flow in a logical, coherent manner, effectively telling a complete and connected story across the slides?</th>\n",
       "    </tr>\n",
       "  </thead>\n",
       "  <tbody>\n",
       "    <tr>\n",
       "      <th>0</th>\n",
       "      <td>3</td>\n",
       "      <td>1</td>\n",
       "      <td>3</td>\n",
       "      <td>3</td>\n",
       "    </tr>\n",
       "    <tr>\n",
       "      <th>1</th>\n",
       "      <td>4</td>\n",
       "      <td>5</td>\n",
       "      <td>4</td>\n",
       "      <td>5</td>\n",
       "    </tr>\n",
       "    <tr>\n",
       "      <th>2</th>\n",
       "      <td>5</td>\n",
       "      <td>4</td>\n",
       "      <td>4</td>\n",
       "      <td>3</td>\n",
       "    </tr>\n",
       "    <tr>\n",
       "      <th>3</th>\n",
       "      <td>4</td>\n",
       "      <td>5</td>\n",
       "      <td>3</td>\n",
       "      <td>5</td>\n",
       "    </tr>\n",
       "    <tr>\n",
       "      <th>4</th>\n",
       "      <td>4</td>\n",
       "      <td>4</td>\n",
       "      <td>4</td>\n",
       "      <td>3</td>\n",
       "    </tr>\n",
       "    <tr>\n",
       "      <th>5</th>\n",
       "      <td>5</td>\n",
       "      <td>3</td>\n",
       "      <td>4</td>\n",
       "      <td>4</td>\n",
       "    </tr>\n",
       "    <tr>\n",
       "      <th>6</th>\n",
       "      <td>2</td>\n",
       "      <td>3</td>\n",
       "      <td>3</td>\n",
       "      <td>4</td>\n",
       "    </tr>\n",
       "    <tr>\n",
       "      <th>7</th>\n",
       "      <td>3</td>\n",
       "      <td>4</td>\n",
       "      <td>2</td>\n",
       "      <td>3</td>\n",
       "    </tr>\n",
       "    <tr>\n",
       "      <th>8</th>\n",
       "      <td>2</td>\n",
       "      <td>2</td>\n",
       "      <td>3</td>\n",
       "      <td>3</td>\n",
       "    </tr>\n",
       "    <tr>\n",
       "      <th>9</th>\n",
       "      <td>4</td>\n",
       "      <td>3</td>\n",
       "      <td>4</td>\n",
       "      <td>3</td>\n",
       "    </tr>\n",
       "    <tr>\n",
       "      <th>10</th>\n",
       "      <td>3</td>\n",
       "      <td>1</td>\n",
       "      <td>3</td>\n",
       "      <td>2</td>\n",
       "    </tr>\n",
       "    <tr>\n",
       "      <th>11</th>\n",
       "      <td>3</td>\n",
       "      <td>4</td>\n",
       "      <td>3</td>\n",
       "      <td>4</td>\n",
       "    </tr>\n",
       "    <tr>\n",
       "      <th>12</th>\n",
       "      <td>3</td>\n",
       "      <td>3</td>\n",
       "      <td>4</td>\n",
       "      <td>2</td>\n",
       "    </tr>\n",
       "    <tr>\n",
       "      <th>13</th>\n",
       "      <td>4</td>\n",
       "      <td>4</td>\n",
       "      <td>4</td>\n",
       "      <td>2</td>\n",
       "    </tr>\n",
       "  </tbody>\n",
       "</table>\n",
       "</div>"
      ],
      "text/plain": [
       "    How well does text in the slide preserve the key content of the source text?  \\\n",
       "0                                                   3                              \n",
       "1                                                   4                              \n",
       "2                                                   5                              \n",
       "3                                                   4                              \n",
       "4                                                   4                              \n",
       "5                                                   5                              \n",
       "6                                                   2                              \n",
       "7                                                   3                              \n",
       "8                                                   2                              \n",
       "9                                                   4                              \n",
       "10                                                  3                              \n",
       "11                                                  3                              \n",
       "12                                                  3                              \n",
       "13                                                  4                              \n",
       "\n",
       "    How well does the generated image help with comprehending the source text?  \\\n",
       "0                                                   1                            \n",
       "1                                                   5                            \n",
       "2                                                   4                            \n",
       "3                                                   5                            \n",
       "4                                                   4                            \n",
       "5                                                   3                            \n",
       "6                                                   3                            \n",
       "7                                                   4                            \n",
       "8                                                   2                            \n",
       "9                                                   3                            \n",
       "10                                                  1                            \n",
       "11                                                  4                            \n",
       "12                                                  3                            \n",
       "13                                                  4                            \n",
       "\n",
       "    How well does the text in the slide deck flow in a logical, coherent manner, effectively telling a complete and connected story across the slides?  \\\n",
       "0                                                   3                                                                                                    \n",
       "1                                                   4                                                                                                    \n",
       "2                                                   4                                                                                                    \n",
       "3                                                   3                                                                                                    \n",
       "4                                                   4                                                                                                    \n",
       "5                                                   4                                                                                                    \n",
       "6                                                   3                                                                                                    \n",
       "7                                                   2                                                                                                    \n",
       "8                                                   3                                                                                                    \n",
       "9                                                   4                                                                                                    \n",
       "10                                                  3                                                                                                    \n",
       "11                                                  3                                                                                                    \n",
       "12                                                  4                                                                                                    \n",
       "13                                                  4                                                                                                    \n",
       "\n",
       "    How well does the sequence of images in the slide deck flow in a logical, coherent manner, effectively telling a complete and connected story across the slides?  \n",
       "0                                                   3                                                                                                                 \n",
       "1                                                   5                                                                                                                 \n",
       "2                                                   3                                                                                                                 \n",
       "3                                                   5                                                                                                                 \n",
       "4                                                   3                                                                                                                 \n",
       "5                                                   4                                                                                                                 \n",
       "6                                                   4                                                                                                                 \n",
       "7                                                   3                                                                                                                 \n",
       "8                                                   3                                                                                                                 \n",
       "9                                                   3                                                                                                                 \n",
       "10                                                  2                                                                                                                 \n",
       "11                                                  4                                                                                                                 \n",
       "12                                                  2                                                                                                                 \n",
       "13                                                  2                                                                                                                 "
      ]
     },
     "execution_count": 8,
     "metadata": {},
     "output_type": "execute_result"
    }
   ],
   "source": [
    "# Load the CSV file\n",
    "result_human = pd.read_csv(\"human_evaluation_results.csv\").iloc[:, 1:5]\n",
    "result_human"
   ]
  },
  {
   "cell_type": "code",
   "execution_count": 62,
   "metadata": {},
   "outputs": [],
   "source": [
    "# Create two dataframes for average ratings per question (means) and frequency of ratings per question (counts)\n",
    "means = []\n",
    "counts = []\n",
    "\n",
    "for question in range(4):\n",
    "    col = result_human.iloc[:, question]\n",
    "    means.append(np.mean(col))\n",
    "\n",
    "    df = pd.DataFrame(col.value_counts(), index=[1, 2, 3, 4, 5])\n",
    "    # Replace NaN values with 0\n",
    "    df.fillna(0, inplace=True)\n",
    "    df.index.name = f\"Question {question+1}\" \n",
    "\n",
    "    counts.append(df)\n",
    "\n",
    "avg_scores = pd.DataFrame(means, columns=[\"average_score\"], index=[result_human.columns])"
   ]
  },
  {
   "cell_type": "code",
   "execution_count": 124,
   "metadata": {},
   "outputs": [
    {
     "data": {
      "image/png": "[encoded data removed]",
      "text/plain": [
       "<Figure size 1500x500 with 4 Axes>"
      ]
     },
     "metadata": {},
     "output_type": "display_data"
    }
   ],
   "source": [
    "import matplotlib.pyplot as plt\n",
    "\n",
    "def func(pct):\n",
    "    return f'{pct:.2f}%' if pct > 0 else ''  # Show absolute value only if > 0\n",
    "\n",
    "fig, axes = plt.subplots(1, 4, figsize=(15, 5))\n",
    "axes = axes.flatten()\n",
    "legend_labels = []\n",
    "\n",
    "# Plot the frequency of ratings\n",
    "for ax, df in zip(axes, counts):\n",
    "    df.sort_index(inplace=True)\n",
    "    if len(legend_labels) == 0:\n",
    "        legend_labels = df.index.tolist() \n",
    "    ax.pie(df['count'], labels = df.index , startangle = 90, autopct=lambda pct: func(pct))\n",
    "    ax.set_title(df.index.name)\n",
    "fig.legend(legend_labels, title=\"Ratings\", loc=\"right\", bbox_to_anchor=(1.05, 0.5))\n",
    "fig.suptitle(\"Ratio of Responses for each Question\")\n",
    "plt.tight_layout() \n",
    "plt.show() "
   ]
  },
  {
   "cell_type": "code",
   "execution_count": 112,
   "metadata": {},
   "outputs": [
    {
     "data": {
      "text/plain": [
       "(1.0, 5.0)"
      ]
     },
     "execution_count": 112,
     "metadata": {},
     "output_type": "execute_result"
    },
    {
     "data": {
      "image/png": "[encoded data removed]",
      "text/plain": [
       "<Figure size 640x480 with 1 Axes>"
      ]
     },
     "metadata": {},
     "output_type": "display_data"
    }
   ],
   "source": [
    "# Plot the averages of questions\n",
    "bars = plt.bar(['Q1', 'Q2', 'Q3', 'Q4'], avg_scores['average_score'], color=['red', 'blue', '#ff9999', '#66b3ff'])\n",
    "for bar in bars:\n",
    "    height = bar.get_height()  # Get the height of each bar\n",
    "    plt.text(bar.get_x() + bar.get_width()/2, height + 0.2,  # Place text above the bar\n",
    "             f'{height:.2f}', ha='center', va='bottom')  # Display height as text\n",
    "    \n",
    "plt.title(\"Average Scores for each Question\")\n",
    "plt.xlabel(\"Question\")\n",
    "plt.ylabel(\"Rating\")\n",
    "plt.ylim(1, 5)"
   ]
  }
 ],
 "metadata": {
  "kernelspec": {
   "display_name": "Python 3 (ipykernel)",
   "language": "python",
   "name": "python3"
  },
  "language_info": {
   "codemirror_mode": {
    "name": "ipython",
    "version": 3
   },
   "file_extension": ".py",
   "mimetype": "text/x-python",
   "name": "python",
   "nbconvert_exporter": "python",
   "pygments_lexer": "ipython3",
   "version": "3.9.19"
  }
 },
 "nbformat": 4,
 "nbformat_minor": 4
}
